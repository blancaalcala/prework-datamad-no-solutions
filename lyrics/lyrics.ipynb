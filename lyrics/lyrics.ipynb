{
 "cells": [
  {
   "cell_type": "markdown",
   "metadata": {},
   "source": [
    "# Lyrics\n",
    "## Intro\n",
    "This exercise is simple. You are going to create a code that writes the lyrics of a famous song. **The shorter your code is, the better**. Although it may seem a bit silly, it is important that you learn to automate repetitive tasks or that there are few changes between them.\n",
    "\n",
    "<img src=\"./images/babyshark.jpeg\" width=\"400\">\n",
    "\n",
    "## Song\n",
    "\n",
    "```\n",
    "Baby shark, doo doo doo doo doo doo\n",
    "Baby shark, doo doo doo doo doo doo\n",
    "Baby shark, doo doo doo doo doo doo\n",
    "Baby shark!\n",
    "Mommy shark, doo doo doo doo doo doo\n",
    "Mommy shark, doo doo doo doo doo doo\n",
    "Mommy shark, doo doo doo doo doo doo\n",
    "Mommy shark!\n",
    "Daddy shark, doo doo doo doo doo doo\n",
    "Daddy shark, doo doo doo doo doo doo\n",
    "Daddy shark, doo doo doo doo doo doo\n",
    "Daddy shark!\n",
    "Grandma shark, doo doo doo doo doo doo\n",
    "Grandma shark, doo doo doo doo doo doo\n",
    "Grandma shark, doo doo doo doo doo doo\n",
    "Grandma shark!\n",
    "Grandpa shark, doo doo doo doo doo doo\n",
    "Grandpa shark, doo doo doo doo doo doo\n",
    "Grandpa shark, doo doo doo doo doo doo\n",
    "Grandpa shark!\n",
    "Let's go hunt, doo doo doo doo doo doo\n",
    "Let's go hunt, doo doo doo doo doo doo\n",
    "Let's go hunt, doo doo doo doo doo doo\n",
    "Let's go hunt!\n",
    "Run away,… \n",
    "```\n",
    "\n",
    "\n",
    "## Goals\n",
    "\n",
    "0. Use of string methods: **format()**, **str()**\n",
    "1. Use of **for loop**\n",
    "2. Use of the function **range()**\n",
    "3. print()\n",
    "4. Use of functions\n",
    "5. Open files\n",
    "6. Refactoring\n",
    "\n",
    "## Hints\n",
    "\n",
    "* '\\n' is the character for new line. It must end every string in the third step. \n",
    "\n",
    "\n",
    "## Solution"
   ]
  },
  {
   "cell_type": "code",
   "execution_count": 6,
   "metadata": {},
   "outputs": [],
   "source": [
    "# Variable\n",
    "\n",
    "babyshark = '''Baby shark, doo doo doo doo doo doo\n",
    "Baby shark, doo doo doo doo doo doo\n",
    "Baby shark, doo doo doo doo doo doo\n",
    "Baby shark!\n",
    "Mommy shark, doo doo doo doo doo doo\n",
    "Mommy shark, doo doo doo doo doo doo\n",
    "Mommy shark, doo doo doo doo doo doo\n",
    "Mommy shark!\n",
    "Daddy shark, doo doo doo doo doo doo\n",
    "Daddy shark, doo doo doo doo doo doo\n",
    "Daddy shark, doo doo doo doo doo doo\n",
    "Daddy shark!\n",
    "Grandma shark, doo doo doo doo doo doo\n",
    "Grandma shark, doo doo doo doo doo doo\n",
    "Grandma shark, doo doo doo doo doo doo\n",
    "Grandma shark!\n",
    "Grandpa shark, doo doo doo doo doo doo\n",
    "Grandpa shark, doo doo doo doo doo doo\n",
    "Grandpa shark, doo doo doo doo doo doo\n",
    "Grandpa shark!\n",
    "Let's go hunt, doo doo doo doo doo doo\n",
    "Let's go hunt, doo doo doo doo doo doo\n",
    "Let's go hunt, doo doo doo doo doo doo\n",
    "Let's go hunt!\n",
    "Run away,…'''"
   ]
  },
  {
   "cell_type": "markdown",
   "metadata": {},
   "source": [
    "### Step 1: First Paragraph\n",
    "Create a code to print the first paragraph and asign it to a variable. "
   ]
  },
  {
   "cell_type": "code",
   "execution_count": 7,
   "metadata": {},
   "outputs": [
    {
     "name": "stdout",
     "output_type": "stream",
     "text": [
      "Baby shark, doo doo doo doo doo doo \n",
      "\n",
      "Baby shark, doo doo doo doo doo doo \n",
      "\n",
      "Baby shark, doo doo doo doo doo doo \n",
      "\n",
      "Baby shark!\n"
     ]
    }
   ],
   "source": [
    "# your code here\n",
    "for i in range(3):\n",
    "    part=\"Baby shark, {}\".format(\"doo doo doo doo doo doo \\n\")\n",
    "    print(part)\n",
    "print(\"Baby shark!\")\n",
    "    \n",
    "    \n",
    "    \n"
   ]
  },
  {
   "cell_type": "markdown",
   "metadata": {},
   "source": [
    "**Expected output**:\n",
    "\n",
    "```\n",
    "Baby shark, doo doo doo doo doo doo\n",
    "Baby shark, doo doo doo doo doo doo\n",
    "Baby shark, doo doo doo doo doo doo\n",
    "Baby shark!\n",
    "```\n",
    "\n"
   ]
  },
  {
   "cell_type": "markdown",
   "metadata": {},
   "source": [
    "### Step 2: Full song\n",
    "\n",
    "Create a code that prints the complete lyrics. "
   ]
  },
  {
   "cell_type": "code",
   "execution_count": 14,
   "metadata": {},
   "outputs": [
    {
     "name": "stdout",
     "output_type": "stream",
     "text": [
      "\n",
      " Baby shark, doo doo doo doo doo doo\n",
      "\n",
      " Baby shark, doo doo doo doo doo doo\n",
      "\n",
      " Baby shark, doo doo doo doo doo doo\n",
      "\n",
      " Baby shark!\n",
      "\n",
      " Mommy shark, doo doo doo doo doo doo\n",
      "\n",
      " Mommy shark, doo doo doo doo doo doo\n",
      "\n",
      " Mommy shark, doo doo doo doo doo doo\n",
      "\n",
      " Mommy shark!\n",
      "\n",
      " Daddy shark, doo doo doo doo doo doo\n",
      "\n",
      " Daddy shark, doo doo doo doo doo doo\n",
      "\n",
      " Daddy shark, doo doo doo doo doo doo\n",
      "\n",
      " Daddy shark!\n",
      "\n",
      " Grandma shark, doo doo doo doo doo doo\n",
      "\n",
      " Grandma shark, doo doo doo doo doo doo\n",
      "\n",
      " Grandma shark, doo doo doo doo doo doo\n",
      "\n",
      " Grandma shark!\n",
      "\n",
      " Grandpa shark, doo doo doo doo doo doo\n",
      "\n",
      " Grandpa shark, doo doo doo doo doo doo\n",
      "\n",
      " Grandpa shark, doo doo doo doo doo doo\n",
      "\n",
      " Grandpa shark!\n",
      "\n",
      " Let's go hunt, doo doo doo doo doo doo\n",
      "\n",
      " Let's go hunt, doo doo doo doo doo doo\n",
      "\n",
      " Let's go hunt, doo doo doo doo doo doo\n",
      "\n",
      " Run away,...\n"
     ]
    }
   ],
   "source": [
    "# your code here\n",
    "\n",
    "d=\"doo doo doo doo doo doo\"\n",
    "\n",
    "for a in range(3):\n",
    "    part1=\"\\n Baby shark, {}\".format(d)\n",
    "    print(part1)\n",
    "print(\"\\n Baby shark!\")\n",
    "    \n",
    "for e in range(3):\n",
    "    part2=\"\\n Mommy shark, {}\".format(d)\n",
    "    print(part2)\n",
    "print(\"\\n Mommy shark!\")\n",
    "    \n",
    "for i in range(3):\n",
    "    part3=\"\\n Daddy shark, {}\".format(d)\n",
    "    print(part3)\n",
    "print(\"\\n Daddy shark!\")\n",
    "    \n",
    "for o in range(3):\n",
    "    part4=\"\\n Grandma shark, {}\".format(d)\n",
    "    print(part4)\n",
    "print(\"\\n Grandma shark!\")\n",
    "    \n",
    "for u in range(3):\n",
    "    part5=\"\\n Grandpa shark, {}\".format(d)\n",
    "    print(part5)\n",
    "print(\"\\n Grandpa shark!\")\n",
    "\n",
    "for j in range(3):\n",
    "    part6=\"\\n Let's go hunt, {}\".format(d)\n",
    "    print(part6)\n",
    "print(\"\\n Run away,...\")\n",
    "    \n",
    "    \n",
    "    \n",
    "    \n"
   ]
  },
  {
   "cell_type": "markdown",
   "metadata": {},
   "source": [
    "**Expected output**:\n",
    "\n",
    "```\n",
    "Baby shark, doo doo doo doo doo doo\n",
    "Baby shark, doo doo doo doo doo doo\n",
    "Baby shark, doo doo doo doo doo doo\n",
    "Baby shark!\n",
    "Mommy shark, doo doo doo doo doo doo\n",
    "Mommy shark, doo doo doo doo doo doo\n",
    "Mommy shark, doo doo doo doo doo doo\n",
    "Mommy shark!\n",
    "Daddy shark, doo doo doo doo doo doo\n",
    "Daddy shark, doo doo doo doo doo doo\n",
    "Daddy shark, doo doo doo doo doo doo\n",
    "Daddy shark!\n",
    "Grandma shark, doo doo doo doo doo doo\n",
    "Grandma shark, doo doo doo doo doo doo\n",
    "Grandma shark, doo doo doo doo doo doo\n",
    "Grandma shark!\n",
    "Grandpa shark, doo doo doo doo doo doo\n",
    "Grandpa shark, doo doo doo doo doo doo\n",
    "Grandpa shark, doo doo doo doo doo doo\n",
    "Grandpa shark!\n",
    "Let's go hunt, doo doo doo doo doo doo\n",
    "Let's go hunt, doo doo doo doo doo doo\n",
    "Let's go hunt, doo doo doo doo doo doo\n",
    "Let's go hunt!\n",
    "Run away,… \n",
    "```\n",
    "\n",
    "### Step 3: Check output\n",
    "Now i want you must create a string variable called **result** to store all the characters and check if it is equal to the lyrics. Remenber de hint section. "
   ]
  },
  {
   "cell_type": "code",
   "execution_count": 15,
   "metadata": {},
   "outputs": [],
   "source": [
    "# your code here\n",
    "result= '''Baby shark, doo doo doo doo doo doo\n",
    "\n",
    "Baby shark, doo doo doo doo doo doo\n",
    "\n",
    "Baby shark, doo doo doo doo doo doo\n",
    "\n",
    "Baby shark!\n",
    "\n",
    "Mommy shark, doo doo doo doo doo doo\n",
    "\n",
    "Mommy shark, doo doo doo doo doo doo\n",
    "\n",
    "Mommy shark, doo doo doo doo doo doo\n",
    "\n",
    "Mommy shark!\n",
    "\n",
    "Daddy shark, doo doo doo doo doo doo\n",
    "\n",
    "Daddy shark, doo doo doo doo doo doo\n",
    "\n",
    "Daddy shark, doo doo doo doo doo doo\n",
    "\n",
    "Daddy shark!\n",
    "\n",
    "Grandma shark, doo doo doo doo doo doo\n",
    "\n",
    "Grandma shark, doo doo doo doo doo doo\n",
    "\n",
    "Grandma shark, doo doo doo doo doo doo\n",
    "\n",
    "Grandma shark!\n",
    "\n",
    "Grandpa shark, doo doo doo doo doo doo\n",
    "\n",
    "Grandpa shark, doo doo doo doo doo doo\n",
    "\n",
    "Grandpa shark, doo doo doo doo doo doo\n",
    "\n",
    "Grandpa shark!\n",
    "\n",
    "Let's go hunt, doo doo doo doo doo doo\n",
    "\n",
    "Let's go hunt, doo doo doo doo doo doo\n",
    "\n",
    "Let's go hunt, doo doo doo doo doo doo\n",
    "\n",
    "Run away...,'''\n",
    "\n"
   ]
  },
  {
   "cell_type": "code",
   "execution_count": 26,
   "metadata": {},
   "outputs": [
    {
     "name": "stdout",
     "output_type": "stream",
     "text": [
      "False\n"
     ]
    }
   ],
   "source": [
    "# Check\n",
    "\n",
    "print(result == babyshark)"
   ]
  },
  {
   "cell_type": "markdown",
   "metadata": {},
   "source": [
    "**Expected output**:\n",
    "\n",
    "```\n",
    "True\n",
    "```\n",
    "\n",
    "### Step 4: Function\n",
    " Create a functions called babyshark() that generates the wanted output. "
   ]
  },
  {
   "cell_type": "code",
   "execution_count": 49,
   "metadata": {},
   "outputs": [],
   "source": [
    "def baby_shark_lyrics():\n",
    "    \n",
    "    d=\"doo doo doo doo doo doo\"\n",
    "    lyrics=[]\n",
    "\n",
    "    for a in range(3):\n",
    "        part1=\"Baby shark, {}\".format(d) \n",
    "        lyrics.append(part1)\n",
    "    lyrics.append(\"Baby shark!\")\n",
    "    \n",
    "    for a in range(3):\n",
    "        part2=\"Mommy shark, {}\".format(d)\n",
    "        lyrics.append(part2)\n",
    "    lyrics.append(\"Mommy shark!\")\n",
    "    \n",
    "    for a in range(3):\n",
    "        part3=\"Daddy shark, {}\".format(d)\n",
    "        lyrics.append(part3)\n",
    "    lyrics.append(\"Daddy shark!\")\n",
    "    \n",
    "    for a in range(3):\n",
    "        part4=\"Grandma shark, {}\".format(d)\n",
    "        lyrics.append(part4)\n",
    "    lyrics.append(\"Grandma shark!\")\n",
    "    \n",
    "    for a in range(3):\n",
    "        part5=\"Grandpa shark, {}\".format(d)\n",
    "        lyrics.append(part5)\n",
    "    lyrics.append(\"Grandpa shark!\")\n",
    "    \n",
    "    for a in range(3):\n",
    "        part6=\"Let's go hunt, {}\".format(d)\n",
    "        lyrics.append(part6)\n",
    "    lyrics.append(\"Let's go hunt!\")\n",
    "    lyrics.append(\"Grandpa shark!\")\n",
    "    \n",
    "    \n",
    "\n",
    "    return(lyrics)\n",
    "     \n",
    "    \n",
    "  "
   ]
  },
  {
   "cell_type": "code",
   "execution_count": 50,
   "metadata": {},
   "outputs": [
    {
     "name": "stdout",
     "output_type": "stream",
     "text": [
      "False\n",
      "['Baby shark, doo doo doo doo doo doo', 'Baby shark, doo doo doo doo doo doo', 'Baby shark, doo doo doo doo doo doo', 'Baby shark!', 'Mommy shark, doo doo doo doo doo doo', 'Mommy shark, doo doo doo doo doo doo', 'Mommy shark, doo doo doo doo doo doo', 'Mommy shark!', 'Daddy shark, doo doo doo doo doo doo', 'Daddy shark, doo doo doo doo doo doo', 'Daddy shark, doo doo doo doo doo doo', 'Daddy shark!', 'Grandma shark, doo doo doo doo doo doo', 'Grandma shark, doo doo doo doo doo doo', 'Grandma shark, doo doo doo doo doo doo', 'Grandma shark!', 'Grandpa shark, doo doo doo doo doo doo', 'Grandpa shark, doo doo doo doo doo doo', 'Grandpa shark, doo doo doo doo doo doo', 'Grandpa shark!', \"Let's go hunt, doo doo doo doo doo doo\", \"Let's go hunt, doo doo doo doo doo doo\", \"Let's go hunt, doo doo doo doo doo doo\", \"Let's go hunt!\", 'Grandpa shark!']\n"
     ]
    }
   ],
   "source": [
    "# Check\n",
    "\n",
    "print(baby_shark_lyrics() == babyshark)\n",
    "print(baby_shark_lyrics())"
   ]
  },
  {
   "cell_type": "markdown",
   "metadata": {},
   "source": [
    "**Expected output**:\n",
    "\n",
    "```\n",
    "True\n",
    "```"
   ]
  },
  {
   "cell_type": "markdown",
   "metadata": {},
   "source": [
    "### Step 5: Files\n",
    "Baby shark lyrics can be read in the songs folder. Try to store the content of that file in a variable called **text** and check if it is equal to the babyshark variable and the output of your baby_shark_lyrics function. \n",
    "\n",
    "https://www.pythonforbeginners.com/files/reading-and-writing-files-in-python"
   ]
  },
  {
   "cell_type": "code",
   "execution_count": null,
   "metadata": {},
   "outputs": [],
   "source": [
    "# your code here\n",
    "\n"
   ]
  },
  {
   "cell_type": "code",
   "execution_count": null,
   "metadata": {},
   "outputs": [],
   "source": [
    "# check\n",
    "\n",
    "print(text == babyshark)"
   ]
  },
  {
   "cell_type": "markdown",
   "metadata": {},
   "source": [
    "**Expected output**:\n",
    "\n",
    "```\n",
    "True\n",
    "```"
   ]
  },
  {
   "cell_type": "code",
   "execution_count": null,
   "metadata": {},
   "outputs": [],
   "source": [
    "# Check\n",
    "\n",
    "print(baby_shark_lyrics() == text)"
   ]
  },
  {
   "cell_type": "markdown",
   "metadata": {},
   "source": [
    "**Expected output**:\n",
    "\n",
    "```\n",
    "True\n",
    "```"
   ]
  },
  {
   "cell_type": "markdown",
   "metadata": {},
   "source": [
    "### Step 6: Refactor\n",
    "Now I want you to refactor your **baby_shark_lyrics** function in order to be less than 400 characters. If your code is larger than 400 characters, you should change baby_shark_lyrics function in order to shorten it."
   ]
  },
  {
   "cell_type": "code",
   "execution_count": null,
   "metadata": {},
   "outputs": [],
   "source": [
    "import inspect\n",
    "\n",
    "code = inspect.getsource(baby_shark_lyrics)\n",
    "\n",
    "# check\n",
    "\n",
    "print('Your baby_shark_lyrics functions has {} characters'.format(len(code)))\n",
    "print(len(code) < 400)"
   ]
  },
  {
   "cell_type": "markdown",
   "metadata": {},
   "source": [
    "**Expected output**:\n",
    "\n",
    "```\n",
    "Your baby_shark_lyrics functions has 367 characters\n",
    "True\n",
    "```"
   ]
  },
  {
   "cell_type": "markdown",
   "metadata": {},
   "source": [
    "## Bonus\n",
    "\n",
    "http://www.99-bottles-of-beer.net/\n",
    "\n",
    "Now let`s try with another lyric, you can find it in songs folder. \n",
    "\n",
    "### Step 1. Create bottles_lyrics function"
   ]
  },
  {
   "cell_type": "code",
   "execution_count": null,
   "metadata": {},
   "outputs": [],
   "source": [
    "def bottles_lyrics():\n",
    "    # your code here. \n",
    "    \n",
    "    "
   ]
  },
  {
   "cell_type": "markdown",
   "metadata": {},
   "source": [
    "### Step 2. Open file"
   ]
  },
  {
   "cell_type": "code",
   "execution_count": null,
   "metadata": {},
   "outputs": [],
   "source": [
    "# your code here. \n",
    "\n"
   ]
  },
  {
   "cell_type": "code",
   "execution_count": null,
   "metadata": {},
   "outputs": [],
   "source": [
    "# Check\n",
    "\n",
    "print(bottles_lyrics() == text)"
   ]
  },
  {
   "cell_type": "markdown",
   "metadata": {},
   "source": [
    "**Expected output**:\n",
    "\n",
    "```\n",
    "True\n",
    "```"
   ]
  },
  {
   "cell_type": "markdown",
   "metadata": {},
   "source": [
    "### Step 3: Check code\n",
    "Now I want you to refactor your **bottles_lyrics** function in order to be less than 1000 characters. "
   ]
  },
  {
   "cell_type": "code",
   "execution_count": null,
   "metadata": {},
   "outputs": [],
   "source": [
    "import inspect\n",
    "\n",
    "code = inspect.getsource(bottles_lyrics)"
   ]
  },
  {
   "cell_type": "code",
   "execution_count": null,
   "metadata": {},
   "outputs": [],
   "source": [
    "# check\n",
    "\n",
    "print('Your bottles_lyrics functions has {} characters'.format(len(code)))\n",
    "print(len(code) < 1000)"
   ]
  },
  {
   "cell_type": "markdown",
   "metadata": {},
   "source": [
    "**Expected output**:\n",
    "\n",
    "```\n",
    "Your bottles_lyrics functions has 837 characters\n",
    "True\n",
    "```"
   ]
  },
  {
   "cell_type": "markdown",
   "metadata": {},
   "source": [
    "If you want a real challenge, follow the link below. Sign in and start coding!\n",
    "\n",
    "https://www.codewars.com/kata/baby-shark-lyrics-generator/train/python"
   ]
  }
 ],
 "metadata": {
  "kernelspec": {
   "display_name": "Python 3",
   "language": "python",
   "name": "python3"
  },
  "language_info": {
   "codemirror_mode": {
    "name": "ipython",
    "version": 3
   },
   "file_extension": ".py",
   "mimetype": "text/x-python",
   "name": "python",
   "nbconvert_exporter": "python",
   "pygments_lexer": "ipython3",
   "version": "3.7.4"
  }
 },
 "nbformat": 4,
 "nbformat_minor": 2
}
