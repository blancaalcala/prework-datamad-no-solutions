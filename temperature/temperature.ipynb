{
 "cells": [
  {
   "cell_type": "markdown",
   "metadata": {},
   "source": [
    "# Processor temperature\n",
    "\n",
    "We have a temperature sensor in the processor of our company's server. We want to analyze the data provided to determinate whether we should change the cooling system for a better one. It is expensive and as a data analyst we cannot make decisions without a basis.\n",
    "\n",
    "We provide the temperatures measured throughout the 24 hours of a day in a list-type data structure composed of 24 integers:\n",
    "```\n",
    "temperatures_C = [33,66,65,0,59,60,62,64,70,76,80,69,80,83,68,79,61,53,50,49,53,48,45,39]\n",
    "```\n",
    "\n",
    "## Goals\n",
    "\n",
    "1. Treatment of lists\n",
    "2. Use of loop or list comprenhention\n",
    "3. Calculation of the mean, minimum and maximum.\n",
    "4. Filtering of lists.\n",
    "5. Interpolate an outlier.\n",
    "6. Logical operators.\n",
    "7. Print"
   ]
  },
  {
   "cell_type": "markdown",
   "metadata": {},
   "source": [
    "## Temperature graph\n",
    "To facilitate understanding, the temperature graph is shown below. You do not have to do anything in this section. The test starts in **Problem**."
   ]
  },
  {
   "cell_type": "code",
   "execution_count": null,
   "metadata": {},
   "outputs": [],
   "source": [
    "# import\n",
    "import matplotlib.pyplot as plt\n",
    "%matplotlib inline\n",
    "\n",
    "# axis x, axis y\n",
    "y = [33,66,65,0,59,60,62,64,70,76,80,81,80,83,90,79,61,53,50,49,53,48,45,39]\n",
    "x = list(range(len(y)))\n",
    "\n",
    "# plot\n",
    "plt.plot(x, y)\n",
    "plt.axhline(y=70, linewidth=1, color='r')\n",
    "plt.xlabel('hours')\n",
    "plt.ylabel('Temperature ºC')\n",
    "plt.title('Temperatures of our server throughout the day')"
   ]
  },
  {
   "cell_type": "markdown",
   "metadata": {},
   "source": [
    "## Problem\n",
    "\n",
    "If the sensor detects more than 4 hours with temperatures greater than or equal to 70ºC or any temperature above 80ºC or the average exceeds 65ºC throughout the day, we must give the order to change the cooling system to avoid damaging the processor.\n",
    "\n",
    "We will guide you step by step so you can make the decision by calculating some intermediate steps:\n",
    "\n",
    "1. Minimum temperature\n",
    "2. Maximum temperature\n",
    "3. Temperatures equal to or greater than 70ºC\n",
    "4. Average temperatures throughout the day.\n",
    "5. If there was a sensor failure at 03:00 and we did not capture the data, how would you estimate the value that we lack? Correct that value in the list of temperatures.\n",
    "6. Bonus: Our maintenance staff is from the United States and does not understand the international metric system. Pass temperatures to Degrees Fahrenheit.\n",
    "\n",
    "Formula: F = 1.8 * C + 32\n",
    "\n",
    "web: https://en.wikipedia.org/wiki/Conversion_of_units_of_temperature\n"
   ]
  },
  {
   "cell_type": "code",
   "execution_count": null,
   "metadata": {},
   "outputs": [],
   "source": [
    "# assign a variable to the list of temperatures\n",
    "temperatures_C = [33,66,65,0,59,60,62,64,70,76,80,81,80,83,90,79,61,53,50,49,53,48,45,39]\n",
    "\n",
    "# 1. Calculate the minimum of the list and print the value using print()\n",
    "minimum=min(temperatures_C)\n",
    "print(\"minimum =\",minimum)"
   ]
  },
  {
   "cell_type": "markdown",
   "metadata": {},
   "source": [
    "**Expected output**: \n",
    "```\n",
    "minimum = 0\n",
    "```"
   ]
  },
  {
   "cell_type": "code",
   "execution_count": null,
   "metadata": {},
   "outputs": [],
   "source": [
    "# 2. Calculate the maximum of the list and print the value using print()\n",
    "maximum=max(temperatures_C)\n",
    "print(\"maximum =\",maximum)"
   ]
  },
  {
   "cell_type": "markdown",
   "metadata": {},
   "source": [
    "**Expected output**: \n",
    "```\n",
    "maximum = 90\n",
    "```"
   ]
  },
  {
   "cell_type": "code",
   "execution_count": null,
   "metadata": {},
   "outputs": [],
   "source": [
    "# 3. Items in the list that are greater than 70ºC and print the result\n",
    "hightemp=[]\n",
    "for i in temperatures_C:\n",
    "    if i>=70:\n",
    "        hightemp.append(i)\n",
    "\n",
    "print(\"temperatures higher or equal than 70ºC\", hightemp)\n",
    "        \n",
    "        "
   ]
  },
  {
   "cell_type": "markdown",
   "metadata": {},
   "source": [
    "**Expected output**: \n",
    "```\n",
    "temperatures higher or equal than 70ºC [70, 76, 80, 81, 80, 83, 90, 79]\n",
    "```"
   ]
  },
  {
   "cell_type": "code",
   "execution_count": null,
   "metadata": {},
   "outputs": [],
   "source": [
    "# 4. Calculate the mean temperature throughout the day and print the result\n",
    "average=sum(temperatures_C)/len(temperatures_C)\n",
    "print(\"mean =\",average)"
   ]
  },
  {
   "cell_type": "markdown",
   "metadata": {},
   "source": [
    "**Expected output**: \n",
    "```\n",
    "mean = 60.25\n",
    "```"
   ]
  },
  {
   "cell_type": "code",
   "execution_count": null,
   "metadata": {},
   "outputs": [],
   "source": [
    "# 5.1 Solve the fault in the sensor by estimating a value\n",
    "\n",
    "point1=temperatures_C[2]\n",
    "point2=temperatures_C[4]\n",
    "position1=2\n",
    "position2=4\n",
    "\n",
    "# linear interpolation\n",
    "fault=(point1)+(3-2)*((point2-point1)/position2-position1)\n",
    "\n",
    "print(\"Estimation of the temperature at 03:00 on the list =\", fault)"
   ]
  },
  {
   "cell_type": "markdown",
   "metadata": {},
   "source": [
    "**Expected output**: \n",
    "```\n",
    "Estimation of the temperature at 3:00 = 62.0\n",
    "```"
   ]
  },
  {
   "cell_type": "code",
   "execution_count": null,
   "metadata": {},
   "outputs": [],
   "source": [
    "# 5.2 Update of the estimated value at 03:00 on the list\n",
    "temperatures_new=[]\n",
    "for i in range(0,len(temperatures_C)):\n",
    "    if i==3:\n",
    "        temperatures_new.insert(i,fault)\n",
    "    else:\n",
    "        temperatures_new.insert(i,temperatures_C[i])\n",
    "    \n",
    "print(\"Corrected temperatures after estimation: \", temperatures_new)"
   ]
  },
  {
   "cell_type": "markdown",
   "metadata": {},
   "source": [
    "**Expected output**: \n",
    "```\n",
    "Corrected temperatures after estimation:  [33, 66, 65, 62.0, 59, 60, 62, 64, 70, 76, 80, 81, 80, 83, 90, 79, 61, 53, 50, 49, 53, 48, 45, 39]\n",
    "```"
   ]
  },
  {
   "cell_type": "code",
   "execution_count": null,
   "metadata": {},
   "outputs": [],
   "source": [
    "# Bonus: convert the list of ºC to ºFarenheit\n",
    "Far=[]\n",
    "for i in temperatures_new:\n",
    "    Far.append(32+i*1.8)\n",
    "print(\"temperatures in Fahrenheit grades= \",Far)\n",
    "    \n",
    "    \n",
    "    "
   ]
  },
  {
   "cell_type": "markdown",
   "metadata": {},
   "source": [
    "**Expected output**: \n",
    "```\n",
    "Temperatures in Fahrenheit Grades = [91.4, 150.8, 149.0, 143.60000000000002, 138.2, 140.0, 143.60000000000002, 147.2, 158.0, 168.8, 176.0, 177.8, 176.0, 181.4, 194.0, 174.20000000000002, 141.8, 127.4, 122.0, 120.2, 127.4, 118.4, 113.0, 102.2]\n",
    "```"
   ]
  },
  {
   "cell_type": "markdown",
   "metadata": {},
   "source": [
    "## Take the decision\n",
    "Remember that if the sensor detects more than 4 hours with temperatures greater than or equal to 70ºC or any temperature higher than 80ºC or the average was higher than 65ºC throughout the day, we must give the order to change the cooling system to avoid the danger of damaging the equipment:\n",
    "* more than 4 hours with temperatures greater than or equal to 70ºC\n",
    "* some temperature higher than 80ºC\n",
    "* average was higher than 65ºC throughout the day\n",
    "If any of these three is met, the cooling system must be changed.\n"
   ]
  },
  {
   "cell_type": "code",
   "execution_count": null,
   "metadata": {},
   "outputs": [],
   "source": [
    "# Print True or False depending on whether you would change the cooling system or not\n",
    "counter1=0\n",
    "counter2=0\n",
    "counter3=0\n",
    "for i in temperatures_C:\n",
    "    if i>=70:\n",
    "        counter1+=1\n",
    "    if i>80:\n",
    "        counter2=1\n",
    "    if average>65:\n",
    "        counter3=1\n",
    "\n",
    "if counter1>4 or counter2==1 or counter3==1:\n",
    "    print(\"TRUE\")\n",
    "else:\n",
    "    print(\"FALSE\")"
   ]
  },
  {
   "cell_type": "markdown",
   "metadata": {},
   "source": [
    "**Expected output**: \n",
    "```\n",
    "True\n",
    "```"
   ]
  },
  {
   "cell_type": "markdown",
   "metadata": {},
   "source": [
    "## Future improvements\n",
    "1. We want the hours (not the temperatures) whose temperature exceeds 70ºC\n",
    "2. Condition that those hours are more than 4 consecutive and consecutive, not simply the sum of the whole set. Is this condition met?\n",
    "3. Average of each of the lists (ºC and ºF). How they relate?\n",
    "4. Standard deviation of each of the lists. How they relate?\n"
   ]
  },
  {
   "cell_type": "code",
   "execution_count": null,
   "metadata": {},
   "outputs": [],
   "source": [
    "# 1. We want the hours (not the temperatures) whose temperature exceeds 70ºC\n",
    "\n",
    "hours=[]\n",
    "for i in range(0,len(temperatures_C)):\n",
    "    if temperatures_C[i]>=70:\n",
    "        hours.append(i)\n",
    "print(hours)"
   ]
  },
  {
   "cell_type": "markdown",
   "metadata": {},
   "source": [
    "**Expected output**: \n",
    "```\n",
    "[8, 9, 10, 11, 12, 13, 14, 15]```"
   ]
  },
  {
   "cell_type": "code",
   "execution_count": null,
   "metadata": {},
   "outputs": [],
   "source": [
    "# 2. Condition that those hours are more than 4 consecutive and consecutive, not simply the sum of the whole set. Is this condition met?\n",
    "counter=0\n",
    "for i in range(3,len(temperatures_C)):\n",
    "    if temperatures_C[i]>=70 and temperatures_C[i-1]>=70 and temperatures_C[i-2]>=70 and temperatures_C[i-3]>=70:\n",
    "        counter=1\n",
    "if counter==1:\n",
    "    print(\"TRUE\")\n",
    "else:\n",
    "    print(\"FALSE\")\n",
    "    \n"
   ]
  },
  {
   "cell_type": "markdown",
   "metadata": {},
   "source": [
    "**Expected output**: \n",
    "```\n",
    "True\n",
    "```"
   ]
  },
  {
   "cell_type": "code",
   "execution_count": null,
   "metadata": {},
   "outputs": [],
   "source": [
    "# 3. Average of each of the lists (ºC and ºF). How they relate?\n",
    "average1=sum(temperatures_new)/len(temperatures_new)\n",
    "print(\"mean temperature (ºC) =\",average1)\n",
    "\n",
    "average2=sum(Far)/len(Far)\n",
    "print(\"mean temperature (ºC) =\",average2)\n",
    "\n",
    "# the relation F=32+1.8*T remains between the averages of both set of temperatures\n",
    "32+average1*1.8"
   ]
  },
  {
   "cell_type": "markdown",
   "metadata": {},
   "source": [
    "**Expected output**: \n",
    "```\n",
    "62.833333333333336\n",
    "145.1\n",
    "145.1 145.10000000000002\n",
    "```"
   ]
  },
  {
   "cell_type": "code",
   "execution_count": null,
   "metadata": {},
   "outputs": [],
   "source": [
    "# 4. Standard deviation of each of the lists. How they relate?\n",
    "\n",
    "import statistics\n",
    "import math\n",
    "st1=statistics.stdev(temperatures_new)\n",
    "st2=statistics.stdev(Far)\n",
    "\n",
    "print(st1)\n",
    "print(st2)\n"
   ]
  },
  {
   "cell_type": "markdown",
   "metadata": {},
   "source": [
    "**Expected output**: \n",
    "```\n",
    "14.633485192833897\n",
    "26.34027334710101\n",
    "26.34027334710101 26.340273347101014\n",
    "```"
   ]
  },
  {
   "cell_type": "code",
   "execution_count": null,
   "metadata": {},
   "outputs": [],
   "source": []
  }
 ],
 "metadata": {
  "kernelspec": {
   "display_name": "Python 3",
   "language": "python",
   "name": "python3"
  },
  "language_info": {
   "codemirror_mode": {
    "name": "ipython",
    "version": 3
   },
   "file_extension": ".py",
   "mimetype": "text/x-python",
   "name": "python",
   "nbconvert_exporter": "python",
   "pygments_lexer": "ipython3",
   "version": "3.7.4"
  }
 },
 "nbformat": 4,
 "nbformat_minor": 2
}
